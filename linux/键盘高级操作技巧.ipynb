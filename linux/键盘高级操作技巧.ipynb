{
 "cells": [
  {
   "cell_type": "code",
   "execution_count": null,
   "metadata": {},
   "outputs": [],
   "source": [
    "clear － 清空屏幕\n",
    "history － 显示历史列表内容\n"
   ]
  },
  {
   "cell_type": "markdown",
   "metadata": {},
   "source": [
    "光标移动命令\n",
    "\n",
    "按键\t行动\n",
    "Ctrl-a\t移动光标到行首。\n",
    "Ctrl-e\t移动光标到行尾。\n",
    "Ctrl-f\t光标前移一个字符；和右箭头作用一样。\n",
    "Ctrl-b\t光标后移一个字符；和左箭头作用一样。\n",
    "Alt-f\t光标前移一个字。\n",
    "Alt-b\t光标后移一个字。\n",
    "Ctrl-l\t清空屏幕，移动光标到左上角。clear 命令完成同样的工作。"
   ]
  }
 ],
 "metadata": {
  "language_info": {
   "name": "python"
  },
  "orig_nbformat": 4
 },
 "nbformat": 4,
 "nbformat_minor": 2
}
