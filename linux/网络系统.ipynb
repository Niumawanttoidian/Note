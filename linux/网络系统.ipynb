{
 "cells": [
  {
   "cell_type": "code",
   "execution_count": null,
   "metadata": {},
   "outputs": [],
   "source": [
    "看看我们能否连接到网站 \n",
    "ping +ip\n",
    "[me@linuxbox ~]$ ping linuxcommand.org\n",
    "PING linuxcommand.org (66.35.250.210) 56(84) bytes of data.\n",
    "64 bytes from vhost.sourceforge.net (66.35.250.210): icmp\\_seq=1\n",
    "ttl=43 time=107 ms\n",
    "64 bytes from vhost.sourceforge.net (66.35.250.210): icmp\\_seq=2\n",
    "ttl=43 time=108 ms\n",
    "64 bytes from vhost.sourceforge.net (66.35.250.210): icmp\\_seq=3\n",
    "ttl=43 time=106 ms\n",
    "64 bytes from vhost.sourceforge.net (66.35.250.210): icmp\\_seq=4\n",
    "ttl=43 time=106 ms\n",
    "64 bytes from vhost.sourceforge.net (66.35.250.210): icmp\\_seq=5\n",
    "ttl=43 time=105 ms"
   ]
  },
  {
   "cell_type": "markdown",
   "metadata": {},
   "source": [
    "netstat 程序被用来检查各种各样的网络设置和统计数据。通过此命令的许多选项，我们 可以看看网络设置中的各种特性。使用“-ie”选项，我们能够查看系统中的网络接口：\n",
    "\n",
    "etstat -ie\n",
    "eth0    Link encap:Ethernet HWaddr 00:1d:09:9b:99:67\n",
    "        inet addr:192.168.1.2 Bcast:192.168.1.255 Mask:255.255.255.0\n",
    "        inet6 addr: fe80::21d:9ff:fe9b:9967/64 Scope:Link\n",
    "        UP BROADCAST RUNNING MULTICAST MTU:1500 Metric:1\n",
    "        RX packets:238488 errors:0 dropped:0 overruns:0 frame:0\n",
    "        TX packets:403217 errors:0 dropped:0 overruns:0 carrier:0\n",
    "        collisions:0 txqueuelen:100 RX bytes:153098921 (146.0 MB) TX\n",
    "        bytes:261035246 (248.9 MB) Memory:fdfc0000-fdfe0000\n",
    "\n",
    "lo      Link encap:Local Loopback\n",
    "        inet addr:127.0.0.1 Mask:255.0.0.0\n",
    "        "
   ]
  },
  {
   "cell_type": "markdown",
   "metadata": {},
   "source": [
    "ftp 传输文件\n",
    "ftp fileserver\t唤醒 ftp 程序，让它连接到 FTP 服务器，fileserver。\n",
    "anonymous\t登录名。输入登录名后，将出现一个密码提示。一些服务器将会接受空密码， 其它一些则会要求一个邮件地址形式的密码。如果是这种情况，试着输入 “user@example.com”。\n",
    "cd pub/cd_images/Ubuntu-8.04\t跳转到远端系统中，要下载文件所在的目录下， 注意在大多数匿名的 FTP 服务器中，支持公共下载的文件都能在目录 pub 下找到\n",
    "ls\t列出远端系统中的目录。\n",
    "lcd Desktop\t跳转到本地系统中的 ~/Desktop 目录下。在实例中，ftp 程序在工作目录 ~ 下被唤醒。 这个命令把工作目录改为 ~/Desktop\n",
    "get ubuntu-8.04-desktop-i386.iso\t告诉远端系统传送文件到本地。因为本地系统的工作目录 已经更改到了 ~/Desktop，所以文件会被下载到此目录。\n",
    "bye\t退出远端服务器，结束 ftp 程序会话。也可以"
   ]
  },
  {
   "cell_type": "markdown",
   "metadata": {},
   "source": [
    "scp 和 sftp\n",
    "这个 OpenSSH 软件包也包含两个程序，它们可以利用 SSH 加密通道在网络间复制文件。 第一个，scp（安全复制）被用来复制文件，与熟悉的 cp 程序非常相似。最显著的区别就是 源或者目标路径名要以远端主机的名字，后跟一个冒号字符开头。例如，如果我们想要 从远端系统，remote-sys，的家目录下复制文档 document.txt，到我们本地系统的当前工作目录下， 可以这样操作：\n",
    "\n",
    "[me@linuxbox ~]$ scp remote-sys:document.txt .\n",
    "me@remote-sys's password:\n",
    "document.txt\n",
    "100%        5581        5.5KB/s         00:00\n",
    "[me@linuxbox ~]$\n",
    "和 ssh 命令一样，如果你所期望的远端主机帐户与你本地系统中的不一致， 则可以把用户名添加到远端主机名的开头。\n",
    "\n",
    "[me@linuxbox ~]$ scp bob@remote-sys:document.txt .\n",
    "第二个 SSH 文件复制命令是 sftp，正如其名字所示，它是 ftp 程序的安全替代品。sftp 工作起来与我们 之前使用的 ftp 程序很相似；然而，它不用明码形式来传递数据，它使用加密的 SSH 通道。sftp 有一个 重要特性强于传统的 ftp 命令，就是 sftp 不需要远端系统中运行 FTP 服务器。它仅仅要求 SSH 服务器。 这意味着任何一台能用 SSH 客户端连接的远端机器，也可当作类似于 FTP 的服务器来使用。 这里是一个样本会话：\n",
    "\n",
    "[me@linuxbox ~]$ sftp remote-sys\n",
    "Connecting to remote-sys...\n",
    "me@remote-sys's password:\n",
    "sftp> ls\n",
    "ubuntu-8.04-desktop-i386.iso\n",
    "sftp> lcd Desktop\n",
    "sftp> get ubuntu-8.04-desktop-i386.iso\n",
    "Fetching /home/me/ubuntu-8.04-desktop-i386.iso to ubuntu-8.04-\n",
    "desktop-i386.iso\n",
    "/home/me/ubuntu-8.04-desktop-i386.iso 100% 699MB 7.4MB/s 01:35\n",
    "sftp> bye"
   ]
  }
 ],
 "metadata": {
  "language_info": {
   "name": "python"
  },
  "orig_nbformat": 4
 },
 "nbformat": 4,
 "nbformat_minor": 2
}
