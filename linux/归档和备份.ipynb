{
 "cells": [
  {
   "cell_type": "code",
   "execution_count": null,
   "metadata": {},
   "outputs": [],
   "source": [
    "gzip – 压缩或者展开文件\n",
    "bzip2 – 块排序文件压缩器\n",
    "归档程序：\n",
    "\n",
    "tar – 磁带打包工具\n",
    "zip – 打包和压缩文件\n",
    "还有文件同步程序：\n",
    "\n",
    "rsync – 同步远端文件和目录\n",
    "Linux和Mac系统常用有2种压缩格式，后缀名分别是：\n",
    ".tar，称之为tarball，归档文件，即简单的将文件组装到一个.tar的文件内，并没有太多文件体积的减少，仅仅是简单的封装\n",
    ".gz，也常见为.tar.gz，gzip格式压缩文件，即使用gzip压缩算法将文件压缩到一个文件内，可以极大的减少压缩后的体积\n",
    "针对这两种格式，使用tar命令均可以进行压缩和解压缩的操作\n",
    "语法：\n",
    "-c，创建压缩文件，用于压缩模式\n",
    "-v，显示压缩、解压过程，用于查看进度\n",
    "-x，解压模式\n",
    "-f，要创建的文件，或要解压的文件，-f选项必须在所有选项中位置处于最后一个\n",
    "-z，gzip模式，不使用-z就是普通的tarball格式\n",
    "-C，选择解压的目的地，用于解压模式\n"
   ]
  },
  {
   "cell_type": "markdown",
   "metadata": {},
   "source": [
    "tar的常用组合为：\n",
    "tar -cvf test.tar 1.txt 2.txt 3.txt\n",
    "将1.txt 2.txt 3.txt 压缩到test.tar文件内\n",
    "tar -zcvf test.tar.gz 1.txt 2.txt 3.txt\n",
    "将1.txt 2.txt 3.txt 压缩到test.tar.gz文件内，使用gzip模式\n",
    "\n",
    "注意：\n",
    "-z选项如果使用的话，一般处于选项位第一个\n",
    "-f选项，必须在选项位最后一个\n"
   ]
  },
  {
   "cell_type": "markdown",
   "metadata": {},
   "source": [
    "常用的tar解压组合有\n",
    "tar -xvf test.tar\n",
    "解压test.tar，将文件解压至当前目录\n",
    "tar -xvf test.tar -C /home/itheima\n",
    "解压test.tar，将文件解压至指定目录（/home/itheima）\n",
    "tar -zxvf test.tar.gz -C /home/itheima\n",
    "以Gzip模式解压test.tar.gz，将文件解压至指定目录（/home/itheima）\n",
    "\n",
    "注意：\n",
    "-f选项，必须在选项组合体的最后一位\n",
    "-z选项，建议在开头位置\n",
    "-C选项单独使用，和解压所需的其它参数分开\n",
    "1. Linux系统常用的压缩格式有：\n",
    "tar格式，归档文件，简单的将文件整合到一个文件内，无压缩效果\n",
    "gzip格式，gzip压缩文件，不仅能整合到一个文件，同时有体积压缩效果\n",
    "2. tar命令\n",
    "tar [-z -x -v -c -f -C] 参数...\n",
    "-c，创建压缩文件、-v，查看压缩\\解压过程、-x，解压模式\n",
    "-f，指定压缩\\解压的文件，-z，gzip模式，-C，指定解压的路径\n",
    "-z在选项组建议在开头，-f在选项组内必须在尾部，-C单独使用\n",
    "3. zip命令\n",
    "zip [-r] 参数...\n",
    "-r，压缩文件夹使用\n",
    "4. unzip命令\n",
    "unzip [-d] 参数\n",
    "-d，指定解压去的目录\n"
   ]
  }
 ],
 "metadata": {
  "language_info": {
   "name": "python"
  },
  "orig_nbformat": 4
 },
 "nbformat": 4,
 "nbformat_minor": 2
}
