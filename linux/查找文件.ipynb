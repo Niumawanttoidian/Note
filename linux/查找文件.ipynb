{
 "cells": [
  {
   "cell_type": "code",
   "execution_count": null,
   "metadata": {},
   "outputs": [],
   "source": [
    "locate – 通过名字来查找文件\n",
    "find – 在目录层次结构中搜索文件\n",
    "我们也将看一个经常与文件搜索命令一起使用的命令，它用来处理搜索到的文件列表：\n",
    "\n",
    "xargs – 从标准输入生成和执行命令行\n",
    "另外，我们将介绍两个命令来协助我们探索：\n",
    "\n",
    "touch – 更改文件时间\n",
    "stat – 显示文件或文件系统状态"
   ]
  },
  {
   "cell_type": "markdown",
   "metadata": {},
   "source": [
    "[me@linuxbox ~]$ locate bin/zip\n",
    "locate 命令将会搜索它的路径名数据库，输出任一个包含字符串“bin/zip”的路径名：\n",
    "\n",
    "/usr/bin/zip\n",
    "/usr/bin/zipcloak\n",
    "/usr/bin/zipgrep\n",
    "/usr/bin/zipinfo\n",
    "/usr/bin/zipnote\n",
    "/usr/bin/zipsplit"
   ]
  },
  {
   "cell_type": "markdown",
   "metadata": {},
   "source": [
    "\n",
    "文件类型\t描述\n",
    "b\t块设备文件\n",
    "c\t字符设备文件\n",
    "d\t目录\n",
    "f\t普通文件\n",
    "l\t符号链接\n",
    "find 命令的最简单使用是，搜索一个或多个目录。例如，输出我们的家目录列表。\n",
    "\n",
    "[me@linuxbox ~]$ find ~\n",
    "添加限制：\n",
    "[me@linuxbox ~]$ find ~ -type d | wc -l\n",
    "1695\n",
    "添加测试条件-type d 限制了只搜索目录。相反地，我们使用这个测试条件来限定搜索普通文件：\n",
    "\n",
    "[me@linuxbox ~]$ find ~ -type f | wc -l\n",
    "38737\n",
    "\n",
    "测试条件\t描述\n",
    "-cmin n\t匹配的文件和目录的内容或属性最后修改时间正好在 n 分钟之前。 指定少于 n 分钟之前，使用 -n，指定多于 n 分钟之前，使用 +n。\n",
    "-cnewer file\t匹配的文件和目录的内容或属性最后修改时间早于那些文件。\n",
    "-ctime n\t匹配的文件和目录的内容和属性最后修改时间在 n*24小时之前。\n",
    "-empty\t匹配空文件和目录。\n",
    "-group name\t匹配的文件和目录属于一个组。组可以用组名或组 ID 来表示。\n",
    "-iname pattern\t就像-name 测试条件，但是不区分大小写。\n",
    "-inum n\t匹配的文件的 inode 号是 n。这对于找到某个特殊 inode 的所有硬链接很有帮助。\n",
    "-mmin n\t匹配的文件或目录的内容被修改于 n 分钟之前。\n",
    "-mtime n\t匹配的文件或目录的内容被修改于 n*24小时之前。\n",
    "-name pattern\t用指定的通配符模式匹配的文件和目录。\n",
    "-newer file\t匹配的文件和目录的内容早于指定的文件。当编写 shell 脚本，做文件备份时，非常有帮助。 每次你制作一个备份，更新文件（比如说日志），然后使用 find 命令来决定自从上次更新，哪一个文件已经更改了。\n",
    "-nouser\t匹配的文件和目录不属于一个有效用户。这可以用来查找 属于删除帐户的文件或监测攻击行为。\n",
    "-nogroup\t匹配的文件和目录不属于一个有效的组。\n",
    "-perm mode\t匹配的文件和目录的权限已经设置为指定的 mode。mode 可以用 八进制或符号表示法。\n",
    "-samefile name\t相似于-inum 测试条件。匹配和文件 name 享有同样 inode 号的文件。\n",
    "-size n\t匹配的文件大小为 n。\n",
    "-type c\t匹配的文件类型是 c。\n",
    "-user name\t匹配的文件或目录属于某个用户。这个用户可以通过用户名或用户 ID 来表示。"
   ]
  }
 ],
 "metadata": {
  "language_info": {
   "name": "python"
  },
  "orig_nbformat": 4
 },
 "nbformat": 4,
 "nbformat_minor": 2
}
