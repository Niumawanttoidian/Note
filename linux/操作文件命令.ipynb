{
 "cells": [
  {
   "cell_type": "code",
   "execution_count": null,
   "metadata": {},
   "outputs": [],
   "source": [
    "cp — 复制文件和目录\n",
    "mv — 移动/重命名文件和目录\n",
    "mkdir — 创建目录\n",
    "rm — 删除文件和目录\n",
    "ln — 创建硬链接和符号链接"
   ]
  },
  {
   "cell_type": "code",
   "execution_count": null,
   "metadata": {},
   "outputs": [],
   "source": [
    "mkdir 创建目录\n",
    "可以一次创建多个 mkdir dir1 dir2 dir3\n",
    "\n"
   ]
  },
  {
   "cell_type": "code",
   "execution_count": null,
   "metadata": {},
   "outputs": [],
   "source": [
    "cp item1 item2\n",
    "复制单个文件或目录”item1”到文件或目录”item2”，和：\n",
    "\n",
    "cp item... directory\n",
    "复制多个项目（文件或目录）到一个目录下。\n",
    "cp 选项\n",
    "常用的-r\n",
    "选项\t意义\n",
    "-a, --archive\t复制文件和目录，以及它们的属性，包括所有权和权限。 通常，复本具有用户所操作文件的默认属性。\n",
    "-i, --interactive\t在重写已存在文件之前，提示用户确认。如果这个选项不指定， cp 命令会默认重写文件。\n",
    "-r, --recursive\t递归地复制目录及目录中的内容。当复制目录时， 需要这个选项（或者-a 选项）。\n",
    "-u, --update\t当把文件从一个目录复制到另一个目录时，仅复制 目标目录中不存在的文件，或者是文件内容新于目标目录中已经存在的文件。\n",
    "-v, --verbose\t显示翔实的命令操作信息\n",
    "\n",
    "\n",
    "cp 实例\n",
    "\n",
    "命令\t运行结果\n",
    "cp file1 file2\t复制文件 file1 内容到文件 file2。如果 file2 已经存在， file2 的内容会被 file1 的内容重写。如果 file2 不存在，则会创建 file2。\n",
    "cp -i file1 file2\t这条命令和上面的命令一样，除了如果文件 file2 存在的话，在文件 file2 被重写之前， 会提示用户确认信息。\n",
    "cp file1 file2 dir1\t复制文件 file1 和文件 file2 到目录 dir1。目录 dir1 必须存在。\n",
    "cp dir1/* dir2\t使用一个通配符，在目录 dir1 中的所有文件都被复制到目录 dir2 中。 dir2 必须已经存在。\n",
    "cp -r dir1 dir2\t复制目录 dir1 中的内容到目录 dir2。如果目录 dir2 不存在， 创建目录 dir2，操作完成后，目录 dir2 中的内容和 dir1 中的一样。 如果目录 dir2 存在，则目录 dir1 (和目录中的内容)将会被复制到 dir2 中。"
   ]
  },
  {
   "cell_type": "code",
   "execution_count": null,
   "metadata": {},
   "outputs": [],
   "source": [
    "rm 选项\n",
    "\n",
    "选项\t意义\n",
    "-i, --interactive\t在删除已存在的文件前，提示用户确认信息。 如果不指定这个选项，rm 会默默地删除文件\n",
    "-r, --recursive\t递归地删除文件，这意味着，如果要删除一个目录，而此目录 又包含子目录，那么子目录也会被删除。要删除一个目录，必须指定这个选项。\n",
    "-f, --force\t忽视不存在的文件，不显示提示信息。这选项颠覆了“--interactive”选项。\n",
    "-v, --verbose\t在执行 rm 命令时，显示翔实的操作信息。\n",
    "表5-9: rm 实例\n",
    "\n",
    "命令\t运行结果\n",
    "rm file1\t默默地删除文件\n",
    "rm -i file1\t除了在删除文件之前，提示用户确认信息之外，和上面的命令作用一样。\n",
    "rm -r file1 dir1\t删除文件 file1, 目录 dir1，及 dir1 中的内容。\n",
    "rm -rf file1 dir1\t同上，除了如果文件 file1，或目录 dir1 不存在的话，rm 仍会继续执行。"
   ]
  },
  {
   "cell_type": "code",
   "execution_count": null,
   "metadata": {},
   "outputs": [],
   "source": []
  }
 ],
 "metadata": {
  "language_info": {
   "name": "python"
  },
  "orig_nbformat": 4
 },
 "nbformat": 4,
 "nbformat_minor": 2
}
