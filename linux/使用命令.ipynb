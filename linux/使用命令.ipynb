{
 "cells": [
  {
   "cell_type": "markdown",
   "metadata": {},
   "source": [
    "type – 说明怎样解释一个命令名\n",
    "which – 显示会执行哪个可执行程序\n",
    "man – 显示命令手册页\n",
    "apropos – 显示一系列适合的命令\n",
    "info – 显示命令 info\n",
    "whatis – 显示一个命令的简洁描述\n",
    "alias – 创建命令别名"
   ]
  },
  {
   "cell_type": "code",
   "execution_count": null,
   "metadata": {
    "vscode": {
     "languageId": "plaintext"
    }
   },
   "outputs": [],
   "source": [
    "type － 显示命令的类型\n",
    "which － 显示一个可执行程序的位置\n",
    "help － 得到 shell 内部命令的帮助文档\n",
    "--help - 显示用法信息"
   ]
  }
 ],
 "metadata": {
  "language_info": {
   "name": "python"
  },
  "orig_nbformat": 4
 },
 "nbformat": 4,
 "nbformat_minor": 2
}
