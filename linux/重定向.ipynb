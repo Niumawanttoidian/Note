{
 "cells": [
  {
   "cell_type": "code",
   "execution_count": null,
   "metadata": {},
   "outputs": [],
   "source": [
    "cat － 连接文件\n",
    "sort － 排序文本行\n",
    "uniq － 报道或省略重复行\n",
    "grep － 打印匹配行\n",
    "wc － 打印文件中换行符，字，和字节个数\n",
    "head － 输出文件第一部分\n",
    "tail - 输出文件最后一部分"
   ]
  },
  {
   "cell_type": "markdown",
   "metadata": {},
   "source": [
    "重定向：\n",
    "重定向标准输出到另一个文件除了屏幕，我们使用 “>” 重定向符，其后跟着文件名\n",
    "ls -l /usr/bin > ls-output.txt\n",
    "文件长度成为零！这是因为，当我们使用 “>” 重定向符来重定向输出结果时，目标文件总是从开头被重写。 因为我们 ls 命令没有产生运行结果，只有错误信息，重定向操作开始重写文件，然后 由于错误而停止，导致文件内容删除，所以导致错误信息直接输出到屏幕上\n",
    "\n",
    "重定向结果追加到文件内容后面\n",
    "使用”>>“重定向符：ls -l /usr/bin >> ls-output.txt"
   ]
  },
  {
   "cell_type": "markdown",
   "metadata": {},
   "source": [
    "cat － 连接文件\n",
    "cat 命令读取一个或多个文件，然后复制它们到标准输出，就像这样:\n",
    "\n",
    "cat [file]"
   ]
  },
  {
   "cell_type": "markdown",
   "metadata": {},
   "source": [
    "wc － 打印行，字和字节数\n",
    "wc（字计数）命令是用来显示文件所包含的行，字和字节数。例如：\n",
    "\n",
    "[me@linuxbox ~]$ wc ls-output.txt\n",
    "7902 64566 503634 ls-output.txt"
   ]
  },
  {
   "cell_type": "markdown",
   "metadata": {},
   "source": [
    "管道线\n",
    "命令可以从标准输入读取数据，然后再把数据输送到标准输出，\n",
    "command1 | command2\n",
    "本质是规定输出形式\n",
    "\n",
    "过滤器\n",
    "管道线经常用来对数据完成复杂的操作。有可能会把几个命令放在一起组成一个管道线。 通常，以这种方式使用的命令被称为过滤器。\n",
    "[me@linuxbox ~]$ ls /bin /usr/bin | sort | less\n",
    "因为我们指定了两个目录（/bin 和/usr/bin），ls 命令的输出结果由有序列表组成， 各自针对一个目录。通过在管道线中包含 sort，我们改变输出数据，从而产生一个 有序列表。"
   ]
  },
  {
   "cell_type": "markdown",
   "metadata": {},
   "source": [
    "uniq - 报道或忽略重复行"
   ]
  },
  {
   "cell_type": "markdown",
   "metadata": {},
   "source": [
    "grep － 打印匹配行\n",
    "grep 是个很强大的程序，用来找到文件中的匹配文本。这样使用 grep 命令：\n",
    "\n",
    "grep pattern [file...]\n",
    "[me@linuxbox ~]$ ls /bin /usr/bin | sort | uniq | grep zip\n",
    "bunzip2\n",
    "bzip2\n",
    "gunzip"
   ]
  },
  {
   "cell_type": "markdown",
   "metadata": {},
   "source": [
    "head / tail － 打印文件开头部分/结尾部分\n",
    "有时候你不需要一个命令的所有输出。可能你只想要前几行或者后几行的输出内容。 head 命令打印文件的前十行，而 tail 命令打印文件的后十行。默认情况下，两个命令 都打印十行文本，但是可以通过”-n”选项来调整命令打印的行数。\n",
    "\n",
    "[me@linuxbox ~]$ head -n 5 ls-output.txt\n",
    "total 343496\n",
    "...\n",
    "[me@linuxbox ~]$ tail -n 5 ls-output.txt\n",
    "..."
   ]
  }
 ],
 "metadata": {
  "language_info": {
   "name": "python"
  },
  "orig_nbformat": 4
 },
 "nbformat": 4,
 "nbformat_minor": 2
}
