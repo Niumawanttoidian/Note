{
 "cells": [
  {
   "cell_type": "code",
   "execution_count": null,
   "metadata": {},
   "outputs": [],
   "source": [
    "echo － 显示一行文本\n",
    "echo +通配符 来显示再linux中通配符是怎么起作用的\n",
    "[me@linuxbox ~]$ echo *\n",
    "Desktop Documents ls-output.txt Music Pictures Public Templates Videos"
   ]
  },
  {
   "cell_type": "markdown",
   "metadata": {},
   "source": [
    "花括号展开\n",
    "可以用来创建多个 文件\n",
    "[me@linuxbox ~]$ echo Front-{A,B,C}-Back\n",
    "Front-A-Back Front-B-Back Front-C-Back\n",
    "\n",
    "[me@linuxbox ~]$ echo Number_{1..5}\n",
    "Number_1  Number_2  Number_3  Number_4  Number_5\n",
    "\n",
    "[me@linuxbox ~]$ mkdir Pics\n",
    "[me@linuxbox ~]$ cd Pics\n",
    "[me@linuxbox Pics]$ mkdir {2007..2009}-0{1..9} {2007..2009}-{10..12}\n",
    "[me@linuxbox Pics]$ ls\n",
    "2007-01 2007-07 2008-01 2008-07 2009-01 2009-07\n",
    "2007-02 2007-08 2008-02 2008-08 2009-02 2009-08\n",
    "2007-03 2007-09 2008-03 2008-09 2009-03 2009-09\n",
    "2007-04 2007-10 2008-04 2008-10 2009-04 2009-10\n",
    "2007-05 2007-11 2008-05 2008-11 2009-05 2009-11\n",
    "2007-06 2007-12 2008-06 2008-12 2009-06 2009-12"
   ]
  }
 ],
 "metadata": {
  "language_info": {
   "name": "python"
  },
  "orig_nbformat": 4
 },
 "nbformat": 4,
 "nbformat_minor": 2
}
